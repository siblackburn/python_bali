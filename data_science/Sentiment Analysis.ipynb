{
 "cells": [
  {
   "cell_type": "code",
   "execution_count": 1,
   "metadata": {},
   "outputs": [
    {
     "name": "stdout",
     "output_type": "stream",
     "text": [
      "Requirement already satisfied: nltk in /opt/conda/lib/python3.7/site-packages (3.4.5)\n",
      "Requirement already satisfied: six in /opt/conda/lib/python3.7/site-packages (from nltk) (1.12.0)\n"
     ]
    },
    {
     "name": "stderr",
     "output_type": "stream",
     "text": [
      "[nltk_data] Downloading package stopwords to /home/jovyan/nltk_data...\n",
      "[nltk_data]   Package stopwords is already up-to-date!\n",
      "[nltk_data] Downloading package wordnet to /home/jovyan/nltk_data...\n",
      "[nltk_data]   Package wordnet is already up-to-date!\n"
     ]
    }
   ],
   "source": [
    "!pip install nltk\n",
    "\n",
    "import numpy as np\n",
    "import re\n",
    "import nltk\n",
    "from sklearn.datasets import load_files\n",
    "nltk.download('stopwords')\n",
    "nltk.download('wordnet')\n",
    "import pickle\n",
    "from nltk.corpus import stopwords"
   ]
  },
  {
   "cell_type": "code",
   "execution_count": 2,
   "metadata": {},
   "outputs": [],
   "source": [
    "movie_data = load_files('./data/sentiment_dataset')\n",
    "X, y = movie_data.data, movie_data.target"
   ]
  },
  {
   "cell_type": "code",
   "execution_count": 4,
   "metadata": {},
   "outputs": [
    {
     "name": "stdout",
     "output_type": "stream",
     "text": [
      "length of X: 1386\n",
      "length of X: 1386\n"
     ]
    }
   ],
   "source": [
    "print(f'length of X: {len(X)}')\n",
    "print(f'length of X: {len(y)}')"
   ]
  },
  {
   "cell_type": "code",
   "execution_count": 277,
   "metadata": {},
   "outputs": [],
   "source": [
    "# remove special characters\n",
    "\n",
    "documents = []\n",
    "\n",
    "#from nltk.stem.snowball import SnowballStemmer\n",
    "#stemmer = SnowballStemmer(\"english\", ignore_stopwords=True)\n",
    "\n",
    "\n",
    "for i in range(0, len(X)):\n",
    "    document = str(X[i])\n",
    "    \n",
    "    # Remove all the special characters\n",
    "    #document = re.sub(r'\\W', ' ', document)\n",
    "    \n",
    "    # Converting to Lowercase\n",
    "    #document = document.lower()\n",
    "    \n",
    "    # remove single characters\n",
    "    #document = re.sub(r'\\s+[a-zA-Z]\\s+', ' ', document)\n",
    "    \n",
    "    # Lemmatization\n",
    "    #document = document.split()\n",
    "    #document = [stemmer.stem(word) for word in document]\n",
    "    #document = ' '.join(document)\n",
    "    \n",
    "    documents.append(document)"
   ]
  },
  {
   "cell_type": "code",
   "execution_count": 278,
   "metadata": {},
   "outputs": [],
   "source": [
    "# training and testing set\n",
    "from sklearn.model_selection import train_test_split\n",
    "X_train, X_test, y_train, y_test = train_test_split(documents, y, test_size=0.2)"
   ]
  },
  {
   "cell_type": "code",
   "execution_count": 279,
   "metadata": {},
   "outputs": [],
   "source": [
    "from sklearn.metrics import classification_report, confusion_matrix, accuracy_score\n",
    "\n",
    "def evaluate_classifier(classifier, X_test, y_test):\n",
    "    y_pred = classifier.predict(X_test)\n",
    "\n",
    "    print(confusion_matrix(y_test, y_pred))\n",
    "    print(classification_report(y_test, y_pred))\n",
    "    print(accuracy_score(y_test, y_pred))"
   ]
  },
  {
   "cell_type": "code",
   "execution_count": 280,
   "metadata": {},
   "outputs": [],
   "source": [
    "from sklearn.feature_extraction.text import CountVectorizer, TfidfTransformer, TfidfVectorizer\n",
    "from sklearn.naive_bayes import MultinomialNB\n",
    "from sklearn.linear_model import SGDClassifier\n",
    "from sklearn.ensemble import RandomForestClassifier, GradientBoostingRegressor\n",
    "from sklearn.pipeline import Pipeline\n",
    "\n",
    "\n",
    "inner_classifier = RandomForestClassifier(n_estimators=400)\n",
    "#inner_classifier = SGDClassifier(\n",
    "#    loss='hinge', \n",
    "#    penalty='l2',\n",
    "#    alpha=1e-3, \n",
    "#    random_state=42,\n",
    "#    max_iter=10,\n",
    "#    tol=None\n",
    "#)\n",
    "\n",
    "classifier = Pipeline([\n",
    "    ('vect', CountVectorizer(\n",
    "        max_features=1000,\n",
    "        min_df=5,\n",
    "        max_df=0.8, \n",
    "        stop_words=stopwords.words('english'),\n",
    "        analyzer='word',\n",
    "        strip_accents='unicode',\n",
    "        ngram_range=(1, 1)\n",
    "    )),\n",
    "    ('tfidf', TfidfTransformer()),\n",
    "    ('classifier', inner_classifier)\n",
    "])"
   ]
  },
  {
   "cell_type": "code",
   "execution_count": 281,
   "metadata": {},
   "outputs": [],
   "source": [
    "classifier = classifier.fit(X_train, y_train)"
   ]
  },
  {
   "cell_type": "code",
   "execution_count": 276,
   "metadata": {},
   "outputs": [
    {
     "name": "stdout",
     "output_type": "stream",
     "text": [
      "[[101  42]\n",
      " [ 34 101]]\n",
      "              precision    recall  f1-score   support\n",
      "\n",
      "           0       0.75      0.71      0.73       143\n",
      "           1       0.71      0.75      0.73       135\n",
      "\n",
      "    accuracy                           0.73       278\n",
      "   macro avg       0.73      0.73      0.73       278\n",
      "weighted avg       0.73      0.73      0.73       278\n",
      "\n",
      "0.7266187050359713\n"
     ]
    }
   ],
   "source": [
    "evaluate_classifier(classifier, X_test, y_test)"
   ]
  },
  {
   "cell_type": "code",
   "execution_count": 204,
   "metadata": {},
   "outputs": [],
   "source": [
    "# perform a grid search over various parameters\n",
    "from sklearn.model_selection import GridSearchCV\n",
    "\n",
    "parameters = {\n",
    "    'vect__ngram_range': [(1, 2), (1, 3), (1, 4)],\n",
    "    'vect__max_features': [1500, 2000, 3000, 5000, 6000]\n",
    "}\n",
    "\n",
    "gs_classifier = GridSearchCV(classifier, parameters, cv=5, iid=False, n_jobs=-1)"
   ]
  },
  {
   "cell_type": "code",
   "execution_count": 157,
   "metadata": {},
   "outputs": [],
   "source": [
    "# perform grid searh on a subset of the data\n",
    "gs_classifier = gs_classifier.fit(X_train[:400], y_train[:400])"
   ]
  },
  {
   "cell_type": "code",
   "execution_count": 158,
   "metadata": {},
   "outputs": [
    {
     "name": "stdout",
     "output_type": "stream",
     "text": [
      "vect__max_features: 2000\n",
      "vect__ngram_range: (1, 4)\n"
     ]
    }
   ],
   "source": [
    "# print out the best values for each parameter\n",
    "for param_name in sorted(parameters.keys()):\n",
    "    print(\"%s: %r\" % (param_name, gs_classifier.best_params_[param_name]))"
   ]
  },
  {
   "cell_type": "code",
   "execution_count": null,
   "metadata": {},
   "outputs": [],
   "source": []
  }
 ],
 "metadata": {
  "kernelspec": {
   "display_name": "Python 3",
   "language": "python",
   "name": "python3"
  },
  "language_info": {
   "codemirror_mode": {
    "name": "ipython",
    "version": 3
   },
   "file_extension": ".py",
   "mimetype": "text/x-python",
   "name": "python",
   "nbconvert_exporter": "python",
   "pygments_lexer": "ipython3",
   "version": "3.7.3"
  }
 },
 "nbformat": 4,
 "nbformat_minor": 2
}
