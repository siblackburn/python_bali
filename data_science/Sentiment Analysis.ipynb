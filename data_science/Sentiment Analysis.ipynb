{
 "cells": [
  {
   "cell_type": "code",
   "execution_count": 51,
   "metadata": {},
   "outputs": [
    {
     "name": "stdout",
     "output_type": "stream",
     "text": [
      "Requirement already satisfied: nltk in /opt/conda/lib/python3.7/site-packages (3.4.5)\n",
      "Requirement already satisfied: six in /opt/conda/lib/python3.7/site-packages (from nltk) (1.12.0)\n"
     ]
    },
    {
     "name": "stderr",
     "output_type": "stream",
     "text": [
      "[nltk_data] Downloading package stopwords to /home/jovyan/nltk_data...\n",
      "[nltk_data]   Package stopwords is already up-to-date!\n",
      "[nltk_data] Downloading package wordnet to /home/jovyan/nltk_data...\n",
      "[nltk_data]   Package wordnet is already up-to-date!\n"
     ]
    }
   ],
   "source": [
    "!pip install nltk\n",
    "\n",
    "import numpy as np\n",
    "import re\n",
    "import nltk\n",
    "from sklearn.datasets import load_files\n",
    "nltk.download('stopwords')\n",
    "nltk.download('wordnet')\n",
    "import pickle\n",
    "from nltk.corpus import stopwords"
   ]
  },
  {
   "cell_type": "code",
   "execution_count": 52,
   "metadata": {},
   "outputs": [],
   "source": [
    "movie_data = load_files('./data/sentiment_dataset')\n",
    "X, y = movie_data.data, movie_data.target"
   ]
  },
  {
   "cell_type": "code",
   "execution_count": 53,
   "metadata": {},
   "outputs": [
    {
     "name": "stdout",
     "output_type": "stream",
     "text": [
      "length of X: 1386\n",
      "length of X: 1386\n",
      "b'cast : casper van dien , jane march , steven waddingham director : carl schenkel producers : stanley canter , dieter geissler , michael lake screenplay : baynard johnson and j . anderson black based on the \" tarzan \" stories by edgar rice burroughs cinematography : paul gilpin music : christopher franke u . s . distributor : warner brothers this is the kind of movie that makes one appreciate disney\\'s live- action george of the jungle . tarzan and the lost city , the latest attempt to bring edgar rice burrough\\'s legendary hero to the big screen , is one of the most inept and ill-timed of any tarzan adventure so far . badly conceived and poorly executed , tarzan and the lost city appears headed for a quick trip to video store shelves . i have no idea why the producers chose now to bring back tarzan ; it\\'s not as if there are legions of new fans clamoring for his next movie . furthermore , it\\'s even more curious that this film is rated pg , which , by definition , rules out any sex or explicit violence . and , while i\\'m not advocating the excesses embraced by the 1981 bo derek version of the story , tarzan deserves a slightly more adult approach than the one used in the embarrassing production . of course , no tweaking of the content to change the rating could have saved tarzan and the lost city , since the film\\'s troubles originated with the script and were propagated all the way down the line . imagine george of the jungle stripped of all ( intentional ) humor , and you have a fair idea of what this tarzan is like . with its uninspired action and tepid adventure sequences , the film barely registers a pulse . anyone in search of a relatively entertaining , family jungle adventure should check out the 1994 version of the jungle book , which uses the same basic elements to much better effect . the only worthwhile element of tarzan and the lost city is the pretty scenery ( which , unfortunately , includes the two lead actors ) . the film doesn\\'t attempt to re-tell the origin story \\x96 the thinking is that it has been done often enough . instead , tarzan and the lost city introduces us to lord graystoke a . k . a . john clayton a . k . a . tarzan the ape man ( casper van dien ) several days before his marriage to lady jane porter ( jane march ) . he is living happily in england , enjoying the benefits of being a land-owning noble . meanwhile , in central africa , the dastardly nigel ravens ( steven waddington ) , a self-proclaimed scholar and explorer , believes he has found the way to the lost city of opar , which he calls the cradle of civilization . on the way there , he and his band of mercenaries do all sorts of nasty things , like burning native villages , to earn the wrath of the locals . one shaman , determined to stop ravens from unearthing opal , sends a mystical message to tarzan for help . with lady jane following close behind , he returns to the jungle where he was born . its patently obvious that casper van dien ( one of the pretty-boy heroes of starship troopers ) was not hired on the basis of his acting ability . with his plastic facial expressions , monotone voice , and complete inability to make convincing animal noises , his range rivals that of steven seagal . his pecs , however , are impressive , and director carl schenkel makes sure that he is given every opportunity to show them off . jane march , on the other hand , has to keep her shirt on , which may be a first for her . some six years ago , march give a solid performance in jean jacques annaud\\'s steamy the lover . since then , she made the career-killing decision of appearing opposite bruce willis in the color of night , which exploited her every acting defiency . tarzan continues this trend . march may be attractive , but , at least judging by this performance , she can\\'t act . meanwhile , steven waddington has serious trouble summoning up the menace necessary to be a really detestable bad guy . instead , he turns out to be little more than a nuisance . the story line is pure formula , which has largely been true throughout the years for almost all of the tarzan movies . the problem is that this one seems so childish and lifeless . the romantic elements are all contrived \\x96 in fact , lady jane\\'s presence is necessary only so she can be captured and subsequently rescued by her buff fiance . the special effects are truly bottom-of-the-barrel ( including some laughably bad men in ape costumes \\x96 apparently , animatronics were too expensive for this production ) . and , of course , as with all jungle movies , there are the obligatory cute animals . over the years , the legend of tarzan has been one of the most popular sources for film series material . the most famous ape man was johnny weismuller , but no less than two dozen other actors have essayed the part ( including gordon scott , who is widely believed to be the best actor to tackle the role ) . weismuller made 12 tarzan features ; van dien will probably fall 11 short of that number . and , having seen tarzan and the lost city , i would argue that the movie-going public would have been well served if he had missed by 12 . \\r\\n'\n",
      "0\n"
     ]
    }
   ],
   "source": [
    "print(f'length of X: {len(X)}')\n",
    "print(f'length of X: {len(y)}')\n",
    "\n",
    "print(X[0])\n",
    "print(y[0])"
   ]
  },
  {
   "cell_type": "code",
   "execution_count": 54,
   "metadata": {},
   "outputs": [],
   "source": [
    "# remove special characters\n",
    "\n",
    "documents = []\n",
    "\n",
    "from nltk.stem import WordNetLemmatizer\n",
    "\n",
    "stemmer = WordNetLemmatizer()\n",
    "\n",
    "for sen in range(0, len(X)):\n",
    "    # Remove all the special characters\n",
    "    document = re.sub(r'\\W', ' ', str(X[sen]))\n",
    "    \n",
    "    # remove all single characters\n",
    "    document = re.sub(r'\\s+[a-zA-Z]\\s+', ' ', document)\n",
    "    \n",
    "    # Remove single characters from the start\n",
    "    document = re.sub(r'\\^[a-zA-Z]\\s+', ' ', document) \n",
    "    \n",
    "    # Substituting multiple spaces with single space\n",
    "    document = re.sub(r'\\s+', ' ', document, flags=re.I)\n",
    "    \n",
    "    # Removing prefixed 'b'\n",
    "    document = re.sub(r'^b\\s+', '', document)\n",
    "    \n",
    "    # Converting to Lowercase\n",
    "    document = document.lower()\n",
    "    \n",
    "    # Lemmatization\n",
    "    document = document.split()\n",
    "\n",
    "    document = [stemmer.lemmatize(word) for word in document]\n",
    "    document = ' '.join(document)\n",
    "    \n",
    "    documents.append(document)"
   ]
  },
  {
   "cell_type": "code",
   "execution_count": 55,
   "metadata": {},
   "outputs": [],
   "source": [
    "#from sklearn.feature_extraction.text import CountVectorizer\n",
    "#vectorizer = CountVectorizer(max_features=1500, min_df=5, max_df=0.7, stop_words=stopwords.words('english'))\n",
    "#X = vectorizer.fit_transform(documents).toarray()\n",
    "\n",
    "# TFIDF\n",
    "from sklearn.feature_extraction.text import TfidfVectorizer\n",
    "tfidfconverter = TfidfVectorizer(max_features=1500, min_df=5, max_df=0.7, stop_words=stopwords.words('english'))\n",
    "X = tfidfconverter.fit_transform(documents).toarray()"
   ]
  },
  {
   "cell_type": "code",
   "execution_count": 56,
   "metadata": {},
   "outputs": [],
   "source": [
    "# training and testing set\n",
    "from sklearn.model_selection import train_test_split\n",
    "X_train, X_test, y_train, y_test = train_test_split(X, y, test_size=0.2, random_state=0)"
   ]
  },
  {
   "cell_type": "code",
   "execution_count": 57,
   "metadata": {},
   "outputs": [
    {
     "name": "stdout",
     "output_type": "stream",
     "text": [
      "length of X: 1108\n",
      "length of X: 278\n"
     ]
    }
   ],
   "source": [
    "print(f'length of X: {len(X_train)}')\n",
    "print(f'length of X: {len(X_test)}')"
   ]
  },
  {
   "cell_type": "code",
   "execution_count": 59,
   "metadata": {},
   "outputs": [
    {
     "data": {
      "text/plain": [
       "RandomForestClassifier(bootstrap=True, class_weight=None, criterion='gini',\n",
       "                       max_depth=None, max_features='auto', max_leaf_nodes=None,\n",
       "                       min_impurity_decrease=0.0, min_impurity_split=None,\n",
       "                       min_samples_leaf=1, min_samples_split=2,\n",
       "                       min_weight_fraction_leaf=0.0, n_estimators=1000,\n",
       "                       n_jobs=None, oob_score=False, random_state=0, verbose=0,\n",
       "                       warm_start=False)"
      ]
     },
     "execution_count": 59,
     "metadata": {},
     "output_type": "execute_result"
    }
   ],
   "source": [
    "from sklearn.ensemble import RandomForestClassifier\n",
    "\n",
    "classifier = RandomForestClassifier(n_estimators=1000, random_state=0)\n",
    "classifier.fit(X_train, y_train)"
   ]
  },
  {
   "cell_type": "code",
   "execution_count": 60,
   "metadata": {},
   "outputs": [
    {
     "name": "stdout",
     "output_type": "stream",
     "text": [
      "[[113  18]\n",
      " [ 41 106]]\n",
      "              precision    recall  f1-score   support\n",
      "\n",
      "           0       0.73      0.86      0.79       131\n",
      "           1       0.85      0.72      0.78       147\n",
      "\n",
      "    accuracy                           0.79       278\n",
      "   macro avg       0.79      0.79      0.79       278\n",
      "weighted avg       0.80      0.79      0.79       278\n",
      "\n",
      "0.7877697841726619\n"
     ]
    }
   ],
   "source": [
    "from sklearn.metrics import classification_report, confusion_matrix, accuracy_score\n",
    "\n",
    "y_pred = classifier.predict(X_test)\n",
    "\n",
    "print(confusion_matrix(y_test, y_pred))\n",
    "print(classification_report(y_test, y_pred))\n",
    "print(accuracy_score(y_test, y_pred))"
   ]
  },
  {
   "cell_type": "code",
   "execution_count": null,
   "metadata": {},
   "outputs": [],
   "source": []
  }
 ],
 "metadata": {
  "kernelspec": {
   "display_name": "Python 3",
   "language": "python",
   "name": "python3"
  },
  "language_info": {
   "codemirror_mode": {
    "name": "ipython",
    "version": 3
   },
   "file_extension": ".py",
   "mimetype": "text/x-python",
   "name": "python",
   "nbconvert_exporter": "python",
   "pygments_lexer": "ipython3",
   "version": "3.7.3"
  }
 },
 "nbformat": 4,
 "nbformat_minor": 2
}
