{
 "cells": [
  {
   "cell_type": "code",
   "execution_count": null,
   "metadata": {},
   "outputs": [],
   "source": [
    "from typing import Dict\n",
    "\n",
    "# Step 1: Complete a Builder class for the Uri class\n",
    "# Step 2: Add support for query paramters\n",
    "# Step 3: Add support for URI fragment identifiers (https://en.wikipedia.org/wiki/Fragment_identifier)\n",
    "# Step 4: Ensure nobody can use the URI constructor, \n",
    "#         they should only be able to use the Builder to create a URI\n",
    "\n",
    "class Uri():\n",
    "    def __init__(self, scheme: str, host: str, path: str, params: dict, fragment_identifier: dict):\n",
    "        self.scheme = scheme\n",
    "        self.host = host\n",
    "        self.path = path\n",
    "        self.params = params\n",
    "        self.fragment_identifier = fragment_identifier\n",
    "    \n",
    "    @staticmethod\n",
    "    def new():\n",
    "        return URIbuilder()\n",
    "        \n",
    "        \n",
    "    def to_string(self):\n",
    "        parameter_string = '&'.join([f'{k}={v}' for k, v in self.params.items()])\n",
    "        if len(parameter_string) > 0:\n",
    "            parameter_string = '?' + parameter_string\n",
    "            \n",
    "        fragment_string = '&'.join([f'{k}={v}' for k, v in self.fragment_identifier.items()])\n",
    "        if len(fragment_string) > 0:\n",
    "            fragment_string = '?' + fragment_string\n",
    "            \n",
    "            \n",
    "        return f'{self.scheme}://{self.host}/{self.path or \"\"}{parameter_string}/{fragment_string}'\n",
    "\n",
    "    \n",
    "class URIbuilder():\n",
    "\n",
    "    def __init__(self, scheme=\"https\", host=None, path=None, params={}, fragment_identifier={}):\n",
    "        self.scheme = scheme\n",
    "        self.host = host\n",
    "        self.path = path\n",
    "        self.params = params\n",
    "        self.fragment_identifier = fragment_identifier\n",
    "\n",
    "    def with_scheme(self, scheme):\n",
    "        return URIbuilder(scheme, host=self.host, path=self.path, params=self.params, fragment_identifier=self.fragment_identifier)\n",
    "\n",
    "    def with_host(self, host):\n",
    "        return URIbuilder(scheme=self.scheme, host=host, path=self.path, params=self.params, fragment_identifier=self.fragment_identifier)\n",
    "\n",
    "    def with_path(self, path):\n",
    "        return URIbuilder(scheme=self.scheme, host=self.host, path=path, params=self.params, fragment_identifier=self.fragment_identifier)\n",
    "    \n",
    "    def with_params(self, key, value):\n",
    "        new_params = dict(self.params, **{key: value})\n",
    "        return URIbuilder(scheme=self.scheme, host=self.host, path=self.path, params=new_params, fragment_identifier=self.fragment_identifier)\n",
    "    \n",
    "    def fragment_identifier(self, key, value):\n",
    "        fragment = dict(self.params, **{key: value})\n",
    "        return URIbuilder(scheme=self.scheme, host=self.host, path=self.path, params=self.params, fragment_identifier=fragment)\n",
    "\n",
    "    def to_url(self):\n",
    "        return Uri(self.scheme, self.host, self.path, self.params, self.fragment_identifier)"
   ]
  },
  {
   "cell_type": "code",
   "execution_count": 73,
   "metadata": {},
   "outputs": [
    {
     "ename": "TypeError",
     "evalue": "'dict' object is not callable",
     "output_type": "error",
     "traceback": [
      "\u001b[1;31m---------------------------------------------------------------------------\u001b[0m",
      "\u001b[1;31mTypeError\u001b[0m                                 Traceback (most recent call last)",
      "\u001b[1;32m<ipython-input-73-b77044bdf108>\u001b[0m in \u001b[0;36m<module>\u001b[1;34m\u001b[0m\n\u001b[1;32m----> 1\u001b[1;33m \u001b[0mtest\u001b[0m \u001b[1;33m=\u001b[0m \u001b[0mUri\u001b[0m\u001b[1;33m.\u001b[0m\u001b[0mnew\u001b[0m\u001b[1;33m(\u001b[0m\u001b[1;33m)\u001b[0m\u001b[1;33m.\u001b[0m\u001b[0mwith_scheme\u001b[0m\u001b[1;33m(\u001b[0m\u001b[1;34m\"http\"\u001b[0m\u001b[1;33m)\u001b[0m\u001b[1;33m.\u001b[0m\u001b[0mwith_host\u001b[0m\u001b[1;33m(\u001b[0m\u001b[1;34m\"facebook.com\"\u001b[0m\u001b[1;33m)\u001b[0m\u001b[1;33m.\u001b[0m\u001b[0mwith_params\u001b[0m\u001b[1;33m(\u001b[0m\u001b[1;34m\"hi\"\u001b[0m\u001b[1;33m,\u001b[0m \u001b[1;34m\"world\"\u001b[0m\u001b[1;33m)\u001b[0m\u001b[1;33m.\u001b[0m\u001b[0mfragment_identifier\u001b[0m\u001b[1;33m(\u001b[0m\u001b[1;34m\"row\"\u001b[0m\u001b[1;33m,\u001b[0m \u001b[1;34m\"4\"\u001b[0m\u001b[1;33m)\u001b[0m\u001b[1;33m.\u001b[0m\u001b[0mto_url\u001b[0m\u001b[1;33m(\u001b[0m\u001b[1;33m)\u001b[0m\u001b[1;33m\u001b[0m\u001b[1;33m\u001b[0m\u001b[0m\n\u001b[0m\u001b[0;32m      2\u001b[0m \u001b[1;33m\u001b[0m\u001b[0m\n\u001b[0;32m      3\u001b[0m \u001b[0mprint\u001b[0m\u001b[1;33m(\u001b[0m\u001b[0mtest\u001b[0m\u001b[1;33m.\u001b[0m\u001b[0mto_string\u001b[0m\u001b[1;33m(\u001b[0m\u001b[1;33m)\u001b[0m\u001b[1;33m)\u001b[0m\u001b[1;33m\u001b[0m\u001b[1;33m\u001b[0m\u001b[0m\n\u001b[0;32m      4\u001b[0m \u001b[1;33m\u001b[0m\u001b[0m\n",
      "\u001b[1;31mTypeError\u001b[0m: 'dict' object is not callable"
     ]
    }
   ],
   "source": [
    "test = Uri.new().with_scheme(\"http\").with_host(\"facebook.com\").with_params(\"hi\", \"world\").fragment_identifier(\"row\", \"4\").to_url()\n",
    "\n",
    "print(test.to_string())\n",
    "\n"
   ]
  },
  {
   "cell_type": "code",
   "execution_count": null,
   "metadata": {},
   "outputs": [],
   "source": []
  },
  {
   "cell_type": "code",
   "execution_count": null,
   "metadata": {},
   "outputs": [],
   "source": []
  },
  {
   "cell_type": "code",
   "execution_count": null,
   "metadata": {},
   "outputs": [],
   "source": []
  },
  {
   "cell_type": "code",
   "execution_count": null,
   "metadata": {},
   "outputs": [],
   "source": []
  }
 ],
 "metadata": {
  "kernelspec": {
   "display_name": "Python 3",
   "language": "python",
   "name": "python3"
  },
  "language_info": {
   "codemirror_mode": {
    "name": "ipython",
    "version": 3
   },
   "file_extension": ".py",
   "mimetype": "text/x-python",
   "name": "python",
   "nbconvert_exporter": "python",
   "pygments_lexer": "ipython3",
   "version": "3.7.4"
  }
 },
 "nbformat": 4,
 "nbformat_minor": 2
}
