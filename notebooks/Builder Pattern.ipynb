{
 "cells": [
  {
   "cell_type": "code",
   "execution_count": 1,
   "metadata": {},
   "outputs": [],
   "source": [
    "from typing import Dict\n",
    "\n",
    "# Step 1: Complete a Builder class for the Uri class\n",
    "# Step 2: Add support for query paramters\n",
    "# Step 3: Add support for URI fragment identifiers (https://en.wikipedia.org/wiki/Fragment_identifier)\n",
    "# Step 4: Ensure nobody can use the URI constructor, \n",
    "#         they should only be able to use the Builder to create a URI\n",
    "\n",
    "class Uri():\n",
    "    \"\"\"\n",
    "    Uri class\n",
    "    \"\"\"\n",
    "    \n",
    "    def __init__(self, scheme: str, host: str, path: str):\n",
    "        self.scheme = scheme\n",
    "        self.host = host\n",
    "        self.path = path\n",
    "        \n",
    "    def to_string(self):\n",
    "        return f'{self.scheme}://{self.host}/{self.path}'\n"
   ]
  },
  {
   "cell_type": "code",
   "execution_count": null,
   "metadata": {},
   "outputs": [],
   "source": []
  }
 ],
 "metadata": {
  "kernelspec": {
   "display_name": "Python 3",
   "language": "python",
   "name": "python3"
  },
  "language_info": {
   "codemirror_mode": {
    "name": "ipython",
    "version": 3
   },
   "file_extension": ".py",
   "mimetype": "text/x-python",
   "name": "python",
   "nbconvert_exporter": "python",
   "pygments_lexer": "ipython3",
   "version": "3.6.9"
  }
 },
 "nbformat": 4,
 "nbformat_minor": 2
}
