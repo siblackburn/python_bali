{
 "cells": [
  {
   "cell_type": "markdown",
   "metadata": {},
   "source": [
    "# Decorators \n",
    "\n",
    "The goal of this notebook is to explore the usefullness of decorators. \n",
    "\n",
    "When writing production code it is often very useful to know how long certain methods take to execute. This allows you to identify performance problems in production. Decorators are a perfect application for this. \n",
    "\n",
    "Let's first explore how we would do this without decorators.\n",
    "\n",
    "Let's define a function that we wish to time"
   ]
  },
  {
   "cell_type": "code",
   "execution_count": 5,
   "metadata": {},
   "outputs": [],
   "source": [
    "import time\n",
    "\n",
    "# this function simply sleeps for 2 seconds\n",
    "def my_function():\n",
    "    time.sleep(2)"
   ]
  },
  {
   "cell_type": "markdown",
   "metadata": {},
   "source": [
    "Now suppose we wish to time this method and log the output. We may implement it liks so:"
   ]
  },
  {
   "cell_type": "code",
   "execution_count": 6,
   "metadata": {},
   "outputs": [
    {
     "name": "stdout",
     "output_type": "stream",
     "text": [
      "Elapsed time: 2.0022003650665283\n"
     ]
    }
   ],
   "source": [
    "def my_function_timed():\n",
    "    start = time.time()\n",
    "    time.sleep(2)\n",
    "    end = time.time()\n",
    "    print(f'Elapsed time: {end-start}')\n",
    "    \n",
    "my_function_timed()"
   ]
  },
  {
   "cell_type": "markdown",
   "metadata": {},
   "source": [
    "However, if we need to implement this in every single function that we wish to time, this timing code is going to be everywhere. This is not good for many reasons:\n",
    "\n",
    "- It is not good to replicate code, because it is hard to maintain it when it is in so many places\n",
    "- my_function should ideally only do what my_function is meant to do, timing logic is not part of it's job description.\n",
    "\n",
    "# Exercise: Let's try this another way! Let's `wrap` our function with another funcion!"
   ]
  },
  {
   "cell_type": "code",
   "execution_count": 14,
   "metadata": {},
   "outputs": [],
   "source": [
    "def timed(func):\n",
    "    #TODO: implement\n",
    "    ...\n",
    "wrapped_my_function = timed(my_function)"
   ]
  },
  {
   "cell_type": "code",
   "execution_count": 8,
   "metadata": {},
   "outputs": [
    {
     "name": "stdout",
     "output_type": "stream",
     "text": [
      "Elapsed time: 2.002076747998217\n"
     ]
    }
   ],
   "source": [
    "wrapped_my_function()"
   ]
  },
  {
   "cell_type": "markdown",
   "metadata": {},
   "source": [
    "This is great, now we can time any function by simply \"wrapping\" it. For example in the following example we wrapped `time.sleep(3)` and timed it in just 1 line of code, without having to re-implement our timing logic."
   ]
  },
  {
   "cell_type": "code",
   "execution_count": 9,
   "metadata": {},
   "outputs": [
    {
     "name": "stdout",
     "output_type": "stream",
     "text": [
      "Elapsed time: 3.003595206002501\n"
     ]
    }
   ],
   "source": [
    "wrapped_sleep = timed(lambda: time.sleep(3))\n",
    "wrapped_sleep()"
   ]
  },
  {
   "cell_type": "markdown",
   "metadata": {},
   "source": [
    "You have basically learned the essence of a decorator, the rest is just a but of syntax.\n",
    "\n",
    "# Exercise: Implement the above function as a proper python decorator|"
   ]
  },
  {
   "cell_type": "code",
   "execution_count": 10,
   "metadata": {},
   "outputs": [],
   "source": [
    "# solution\n",
    "\n",
    "@timed\n",
    "def my_function():\n",
    "    time.sleep(2)"
   ]
  },
  {
   "cell_type": "markdown",
   "metadata": {},
   "source": [
    "# Exercise: implement a retry decorator\n",
    "\n",
    "```python\n",
    "# a retry decorator detects when a function call fails (raises an Exception), \n",
    "# and retries the function a given number of times\n",
    "\n",
    "@retry(num=3)\n",
    "def function_that_may_fail():\n",
    "    ...\n",
    "```"
   ]
  },
  {
   "cell_type": "markdown",
   "metadata": {},
   "source": [
    "# Exercise: implement a cached decorator\n",
    "\n",
    "```python\n",
    "# a cachine decorator will save the return value of your function.\n",
    "# The next time your function is called, the saved value will be returned\n",
    "# `time` is a paramter to control how long the value is cached for, after\n",
    "# this amount of time passes, the computation is performed again.\n",
    "\n",
    "@cached(time)\n",
    "def some_expensive_computation():\n",
    "    ...\n",
    "```"
   ]
  },
  {
   "cell_type": "markdown",
   "metadata": {},
   "source": [
    "# Exercise: implement a typecheck decorator\n",
    "\n",
    "```python\n",
    "\n",
    "# the type check decorator checks the types passed into a function and raises an exception if the wrong type is specified\n",
    "\n",
    "@typecheck(str, int, bool)\n",
    "def func(myString, myInt, myBool):\n",
    "    ...\n",
    "```"
   ]
  },
  {
   "cell_type": "markdown",
   "metadata": {},
   "source": [
    "# Exercise: think of your own decorator and implement it!"
   ]
  },
  {
   "cell_type": "code",
   "execution_count": null,
   "metadata": {},
   "outputs": [],
   "source": []
  }
 ],
 "metadata": {
  "kernelspec": {
   "display_name": "Python 3",
   "language": "python",
   "name": "python3"
  },
  "language_info": {
   "codemirror_mode": {
    "name": "ipython",
    "version": 3
   },
   "file_extension": ".py",
   "mimetype": "text/x-python",
   "name": "python",
   "nbconvert_exporter": "python",
   "pygments_lexer": "ipython3",
   "version": "3.7.4"
  }
 },
 "nbformat": 4,
 "nbformat_minor": 2
}
